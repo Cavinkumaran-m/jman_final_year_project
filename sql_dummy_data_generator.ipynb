{
 "cells": [
  {
   "cell_type": "code",
   "execution_count": 42,
   "metadata": {},
   "outputs": [],
   "source": [
    "import pandas as pd\n",
    "import numpy as np\n",
    "import pyodbc\n",
    "import bcrypt\n",
    "from faker import Faker\n",
    "import random\n",
    "from datetime import datetime, timedelta"
   ]
  },
  {
   "cell_type": "code",
   "execution_count": 46,
   "metadata": {},
   "outputs": [],
   "source": [
    "# Create a Faker instance for generating dummy data\n",
    "faker = Faker()\n",
    "\n",
    "# Define MSSQL connection details\n",
    "connection_string = 'DRIVER={SQL Server};SERVER=DESKTOP-CMTGLLQ;DATABASE=JLEARN;trusted_connection=YES'\n",
    "\n",
    "# Connect to the database\n",
    "conn = pyodbc.connect(connection_string)\n",
    "cursor = conn.cursor()\n"
   ]
  },
  {
   "cell_type": "code",
   "execution_count": 44,
   "metadata": {},
   "outputs": [
    {
     "name": "stdout",
     "output_type": "stream",
     "text": [
      "97 users inserted successfully!\n"
     ]
    }
   ],
   "source": [
    "# Function to hash passwords (simulates Next.js hashing)\n",
    "def hash_password(password):\n",
    "    return bcrypt.hashpw(password.encode('utf-8'), bcrypt.gensalt(10)).decode('utf-8')\n",
    "\n",
    "# Generate dummy users and insert into MSSQL\n",
    "def generate_dummy_users(num_users):\n",
    "    for _ in range(num_users):\n",
    "        username = faker.user_name()\n",
    "        full_name = faker.name()\n",
    "        email = faker.unique.email()\n",
    "        password_hash = hash_password(\"123\")  # All users will have '123' as their password\n",
    "        role = 'employee'\n",
    "        registered_at = datetime.now()\n",
    "\n",
    "        # Insert user into MSSQL database\n",
    "        cursor.execute('''\n",
    "            INSERT INTO users (UserName, FullName, Email, PasswordHash, Role, RegisteredAt)\n",
    "            VALUES (?, ?, ?, ?, ?, ?)\n",
    "        ''', (username, full_name, email, password_hash, role, registered_at))\n",
    "        \n",
    "    # Commit the transaction\n",
    "    conn.commit()\n",
    "    print(f'{num_users} users inserted successfully!')\n",
    "\n",
    "# Generate 10 dummy users\n",
    "generate_dummy_users(97)\n",
    "\n",
    "# Close the connection\n",
    "cursor.close()\n",
    "conn.close()\n"
   ]
  },
  {
   "cell_type": "code",
   "execution_count": 47,
   "metadata": {},
   "outputs": [
    {
     "name": "stdout",
     "output_type": "stream",
     "text": [
      "100 user_course records inserted successfully!\n"
     ]
    }
   ],
   "source": [
    "# Get existing users from the users table\n",
    "cursor.execute(\"SELECT UserID FROM users\")\n",
    "users = [row[0] for row in cursor.fetchall()]\n",
    "\n",
    "# Get existing courses from the courses table\n",
    "cursor.execute(\"SELECT course_id FROM courses\")\n",
    "courses = [row[0] for row in cursor.fetchall()]\n",
    "\n",
    "# Function to generate user_course records\n",
    "def generate_user_courses(num_records):\n",
    "    for _ in range(num_records):\n",
    "        user_id = random.choice(users)  # Assign random user\n",
    "        for _ in range(2):\n",
    "            course_id = random.choice(courses)  # Assign random course\n",
    "            \n",
    "            status = random.choice([\"assigned\", \"undertaken\"])\n",
    "            progress = 100\n",
    "            \n",
    "            enrolled_at = faker.date_time_between(start_date='-1y', end_date='now')\n",
    "            completed_at = enrolled_at + timedelta(days=random.randint(1, 100))\n",
    "            \n",
    "            score = random.randint(50,100)\n",
    "            \n",
    "            # Insert user_course record into the database\n",
    "            cursor.execute('''\n",
    "                INSERT INTO user_courses (user_id, course_id, status, progress, enrolled_at, completed_at, score)\n",
    "                VALUES (?, ?, ?, ?, ?, ?, ?)\n",
    "            ''', (user_id, course_id, status, progress, enrolled_at, completed_at, score))\n",
    "\n",
    "    # Commit the transaction\n",
    "    conn.commit()\n",
    "    print(f'{num_records} user_course records inserted successfully!')\n",
    "\n",
    "# Generate 50 user_course records\n",
    "generate_user_courses(100)\n",
    "\n",
    "# Close the connection\n",
    "cursor.close()\n",
    "conn.close()\n"
   ]
  }
 ],
 "metadata": {
  "kernelspec": {
   "display_name": "Python 3",
   "language": "python",
   "name": "python3"
  },
  "language_info": {
   "codemirror_mode": {
    "name": "ipython",
    "version": 3
   },
   "file_extension": ".py",
   "mimetype": "text/x-python",
   "name": "python",
   "nbconvert_exporter": "python",
   "pygments_lexer": "ipython3",
   "version": "3.9.6"
  }
 },
 "nbformat": 4,
 "nbformat_minor": 2
}
