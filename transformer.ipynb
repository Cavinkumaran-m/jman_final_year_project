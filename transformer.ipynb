{
 "cells": [
  {
   "cell_type": "code",
   "execution_count": 165,
   "metadata": {},
   "outputs": [],
   "source": [
    "import os\n",
    "import pandas as pd\n",
    "import pyodbc\n",
    "from datetime import datetime\n",
    "from decimal import Decimal"
   ]
  },
  {
   "cell_type": "code",
   "execution_count": 159,
   "metadata": {},
   "outputs": [],
   "source": [
    "# Define MSSQL connection details\n",
    "connection_string = 'DRIVER={SQL Server};SERVER=DESKTOP-CMTGLLQ;DATABASE=JLEARN;trusted_connection=YES'\n",
    "\n",
    "# Connect to the database\n",
    "conn = pyodbc.connect(connection_string)\n",
    "cursor = conn.cursor()"
   ]
  },
  {
   "cell_type": "code",
   "execution_count": 160,
   "metadata": {},
   "outputs": [],
   "source": [
    "# Create directories for the Medallion architecture\n",
    "base_dir = \"warehouse\"\n",
    "\n",
    "if not os.path.exists(base_dir):\n",
    "    os.makedirs(base_dir)\n",
    "\n",
    "def create_folders():\n",
    "    layers = ['Bronze', 'Silver', 'Gold']\n",
    "    for directory in layers:\n",
    "        if not os.path.exists(base_dir + \"/\" + directory):\n",
    "            os.makedirs(base_dir + \"/\" + directory)\n",
    "\n",
    "create_folders()\n"
   ]
  },
  {
   "cell_type": "code",
   "execution_count": 89,
   "metadata": {},
   "outputs": [],
   "source": [
    "# PREPARING DATABASE\n",
    "def clean_db():\n",
    "    schemas = ['raw','prep','mart']\n",
    "    tables = ['user_courses','users','courses']\n",
    "    def create_schema(schema):\n",
    "        query = f\"select schema_id('{schema}');\"\n",
    "        cursor.execute(query)\n",
    "        res = tuple(cursor.fetchall()[0])[0]\n",
    "        if(res == None):\n",
    "            query = f\"create schema {schema};\"\n",
    "            cursor.execute(query)\n",
    "            print(f\"{schema} schema created\")\n",
    "            conn.commit()\n",
    "\n",
    "    def drop_tables(schema, table):\n",
    "        query = f\"DROP TABLE IF EXISTS {schema}.{table};\"\n",
    "        cursor.execute(query)\n",
    "        conn.commit()\n",
    "\n",
    "    def create_users_table(schema):\n",
    "        query = f\"\"\"CREATE TABLE {schema}.users (\n",
    "            UserID       INT            PRIMARY KEY,\n",
    "            UserName     NVARCHAR(100),\n",
    "            FullName     NVARCHAR(100),\n",
    "            Email        NVARCHAR(255) UNIQUE,\n",
    "            PasswordHash NVARCHAR(255),\n",
    "            Role         NVARCHAR(50)   DEFAULT 'employee',\n",
    "            RegisteredAt DATETIME       DEFAULT GETDATE()\n",
    "        )\"\"\"\n",
    "        cursor.execute(query)\n",
    "        conn.commit()\n",
    "\n",
    "    def create_courses_table(schema):\n",
    "        query = f\"\"\"CREATE TABLE {schema}.courses (\n",
    "            course_id           INT            PRIMARY KEY,\n",
    "            course_title        NVARCHAR(100),\n",
    "            num_subscribers     INT,\n",
    "            num_reviews         SMALLINT,\n",
    "            num_lectures        SMALLINT,\n",
    "            level               NVARCHAR(50),\n",
    "            content_duration    FLOAT,\n",
    "            published_timestamp NVARCHAR(50),\n",
    "            subject             NVARCHAR(50)\n",
    "        )\"\"\"\n",
    "        cursor.execute(query)\n",
    "        conn.commit()\n",
    "\n",
    "    def create_user_courses_table(schema):\n",
    "        query = f\"\"\"CREATE TABLE {schema}.user_courses (\n",
    "            user_course_id INT       PRIMARY KEY,\n",
    "            user_id        INT,\n",
    "            course_id      INT,\n",
    "            status         VARCHAR(50),\n",
    "            progress       DECIMAL(5, 2) DEFAULT 0.00,\n",
    "            enrolled_at    DATETIME      DEFAULT GETDATE(),\n",
    "            completed_at   DATETIME,\n",
    "            score          DECIMAL(5, 2),\n",
    "            CONSTRAINT FK_user_courses_users FOREIGN KEY (user_id) REFERENCES raw.users(UserID),\n",
    "            CONSTRAINT FK_user_courses_courses FOREIGN KEY (course_id) REFERENCES raw.courses(course_id)\n",
    "        )\"\"\"\n",
    "        cursor.execute(query)\n",
    "        conn.commit()\n",
    "\n",
    "    for schema in schemas:\n",
    "        create_schema(schema)\n",
    "        for table in tables:\n",
    "            drop_tables(schema, table)\n",
    "\n",
    "    create_users_table('raw')\n",
    "    create_courses_table('raw')\n",
    "    create_user_courses_table('raw')"
   ]
  },
  {
   "cell_type": "code",
   "execution_count": 83,
   "metadata": {},
   "outputs": [],
   "source": [
    "# Fetch data using pyodbc and convert to pandas DataFrame\n",
    "def fetch_data(query, conn):\n",
    "    cursor = conn.cursor()\n",
    "    cursor.execute(query)\n",
    "    columns = [column[0] for column in cursor.description]\n",
    "    data = cursor.fetchall()\n",
    "    df = pd.DataFrame([tuple(row) for row in data], columns=columns)\n",
    "    return df\n"
   ]
  },
  {
   "cell_type": "code",
   "execution_count": 171,
   "metadata": {},
   "outputs": [],
   "source": [
    "# Utility function to save data to both CSV and SQL Server\n",
    "\n",
    "def save_data(df, table_name, stage, schema):\n",
    "\n",
    "    # Save to CSV\n",
    "    file_path = os.path.join(base_dir + \"\\\\\" +stage, f'{table_name}_{datetime.now().strftime(\"%Y%m%d_%H%M%S\")}.csv')\n",
    "    print(file_path)\n",
    "    df.to_csv(file_path, index=False)\n",
    "\n",
    "    df = df.applymap(lambda x: x.strftime('%Y-%m-%d %H:%M:%S') if isinstance(x, pd.Timestamp) else x)\n",
    "    df = df.applymap(lambda x: float(x) if isinstance(x, Decimal) else x)\n",
    "    # df = df.applymap(lambda x: None if isinstance(x, pd.notna) else x)\n",
    "    df = df.applymap(lambda x: None if (isinstance(x, Decimal) and (x.is_nan() or x == Decimal('NaN'))) else float(x) if isinstance(x, Decimal) else x)\n",
    "    df = df.replace(\"'\",\"\", regex=True)\n",
    "\n",
    "    # Save to SQL Server\n",
    "    conn_str = f\"INSERT INTO {schema}.{table_name} ({', '.join(df.columns)}) VALUES \"\n",
    "    values = ', '.join([str(tuple(row)) for row in df.values])\n",
    "    query = conn_str + values\n",
    "    print(values)\n",
    "    with conn.cursor() as cursor:\n",
    "        cursor.execute(query)\n",
    "        conn.commit()"
   ]
  },
  {
   "cell_type": "code",
   "execution_count": 172,
   "metadata": {},
   "outputs": [
    {
     "name": "stdout",
     "output_type": "stream",
     "text": [
      "warehouse\\Bronze\\user_courses_20241005_203111.csv\n",
      "(22, 1, 8325, 'undertaken', 41.0, '2024-10-03 12:04:08', '2024-10-05 10:09:00', nan), (23, 76, 1117796, 'undertaken', 100.0, '2024-03-01 15:44:00', '2024-05-10 15:44:00', 95.0), (24, 76, 606928, 'undertaken', 100.0, '2024-06-02 08:52:19', '2024-06-04 08:52:19', 56.0), (25, 76, 192870, 'undertaken', 100.0, '2024-03-28 03:53:42', '2024-07-04 03:53:42', 87.0), (26, 76, 1113822, 'assigned', 100.0, '2024-09-15 21:07:02', '2024-11-03 21:07:02', 65.0), (27, 45, 820194, 'undertaken', 100.0, '2024-04-22 13:42:49', '2024-05-03 13:42:49', 72.0), (28, 45, 595876, 'assigned', 100.0, '2023-10-23 08:49:26', '2023-12-08 08:49:26', 62.0), (29, 86, 801486, 'assigned', 100.0, '2024-04-29 22:03:01', '2024-05-17 22:03:01', 64.0), (30, 86, 1151326, 'undertaken', 100.0, '2024-01-23 16:23:51', '2024-03-20 16:23:51', 82.0), (33, 96, 1146014, 'undertaken', 100.0, '2024-03-26 07:01:16', '2024-05-15 07:01:16', 95.0), (34, 96, 837722, 'undertaken', 100.0, '2024-02-04 02:12:25', '2024-04-09 02:12:25', 75.0), (35, 5, 1146014, 'assigned', 100.0, '2023-10-26 05:24:22', '2023-10-29 05:24:22', 93.0), (36, 5, 1078208, 'assigned', 100.0, '2024-07-01 21:08:22', '2024-09-04 21:08:22', 67.0), (37, 37, 1261122, 'undertaken', 100.0, '2023-11-25 22:47:02', '2024-02-20 22:47:02', 99.0), (38, 37, 1216132, 'undertaken', 100.0, '2024-03-25 21:01:05', '2024-06-12 21:01:05', 81.0), (39, 99, 920306, 'undertaken', 100.0, '2024-05-12 16:54:40', '2024-08-11 16:54:40', 63.0), (40, 99, 192870, 'assigned', 100.0, '2024-07-26 01:02:28', '2024-08-23 01:02:28', 61.0), (41, 33, 28295, 'undertaken', 100.0, '2024-05-11 23:52:53', '2024-07-10 23:52:53', 50.0), (42, 33, 1006314, 'assigned', 100.0, '2024-09-01 01:45:46', '2024-09-07 01:45:46', 61.0), (43, 69, 1210588, 'assigned', 100.0, '2024-01-13 04:43:30', '2024-01-15 04:43:30', 64.0), (44, 69, 719698, 'undertaken', 100.0, '2024-06-07 18:57:37', '2024-09-10 18:57:37', 91.0), (45, 42, 1117796, 'undertaken', 100.0, '2023-12-03 09:48:02', '2023-12-31 09:48:02', 67.0), (46, 42, 874012, 'assigned', 100.0, '2024-09-03 01:12:57', '2024-10-05 01:12:57', 93.0), (47, 39, 595876, 'assigned', 100.0, '2024-07-23 18:59:51', '2024-08-01 18:59:51', 72.0), (48, 39, 1196544, 'undertaken', 100.0, '2024-09-03 01:20:35', '2024-11-14 01:20:35', 82.0), (49, 87, 101498, 'assigned', 100.0, '2024-07-22 05:46:40', '2024-08-28 05:46:40', 75.0), (50, 87, 961630, 'assigned', 100.0, '2024-04-05 03:45:08', '2024-04-26 03:45:08', 89.0), (51, 50, 975046, 'undertaken', 100.0, '2024-08-28 05:58:22', '2024-09-13 05:58:22', 93.0), (52, 50, 564966, 'undertaken', 100.0, '2023-11-26 12:36:38', '2024-01-16 12:36:38', 80.0), (53, 65, 1048302, 'assigned', 100.0, '2024-07-31 05:53:51', '2024-09-30 05:53:51', 81.0), (54, 65, 785388, 'undertaken', 100.0, '2024-08-25 08:56:18', '2024-11-20 08:56:18', 97.0), (55, 86, 1210588, 'assigned', 100.0, '2024-07-20 14:05:25', '2024-07-25 14:05:25', 60.0), (56, 86, 1216132, 'assigned', 100.0, '2024-04-25 13:02:24', '2024-07-04 13:02:24', 58.0), (57, 18, 1011058, 'undertaken', 100.0, '2023-12-14 16:26:25', '2024-03-13 16:26:25', 89.0), (58, 18, 19603, 'assigned', 100.0, '2023-12-12 12:17:35', '2024-01-21 12:17:35', 53.0), (59, 87, 317278, 'assigned', 100.0, '2024-03-09 11:03:17', '2024-05-03 11:03:17', 54.0), (60, 87, 1120554, 'assigned', 100.0, '2024-02-03 10:20:55', '2024-03-25 10:20:55', 82.0), (61, 51, 590794, 'assigned', 100.0, '2024-01-31 15:31:02', '2024-04-16 15:31:02', 83.0), (62, 51, 1219520, 'assigned', 100.0, '2023-10-27 22:29:13', '2024-01-26 22:29:13', 52.0), (63, 74, 28556, 'undertaken', 100.0, '2024-06-29 14:38:57', '2024-09-13 14:38:57', 72.0), (64, 74, 661814, 'undertaken', 100.0, '2024-03-29 04:04:22', '2024-05-14 04:04:22', 54.0), (65, 88, 403100, 'undertaken', 100.0, '2024-01-16 14:59:15', '2024-02-02 14:59:15', 57.0), (66, 88, 573064, 'assigned', 100.0, '2024-04-10 23:53:56', '2024-04-19 23:53:56', 99.0), (67, 12, 564966, 'undertaken', 100.0, '2024-02-12 06:53:33', '2024-02-26 06:53:33', 81.0), (68, 12, 987064, 'undertaken', 100.0, '2024-09-17 07:28:17', '2024-09-27 07:28:17', 61.0), (69, 30, 1048302, 'undertaken', 100.0, '2024-04-11 00:08:28', '2024-05-19 00:08:28', 73.0), (70, 30, 1181578, 'undertaken', 100.0, '2023-12-02 20:41:51', '2024-02-22 20:41:51', 70.0), (71, 93, 920306, 'assigned', 100.0, '2023-10-28 04:38:06', '2023-12-13 04:38:06', 73.0), (72, 93, 101498, 'assigned', 100.0, '2023-12-02 18:35:49', '2024-02-26 18:35:49', 76.0), (73, 14, 19603, 'undertaken', 100.0, '2024-02-12 13:02:09', '2024-03-03 13:02:09', 66.0), (74, 14, 590794, 'undertaken', 100.0, '2024-08-11 15:42:42', '2024-10-11 15:42:42', 50.0), (75, 7, 595876, 'assigned', 100.0, '2023-11-14 01:20:00', '2024-02-16 01:20:00', 86.0), (76, 7, 94428, 'assigned', 100.0, '2024-07-24 10:52:35', '2024-09-30 10:52:35', 97.0), (79, 80, 606928, 'undertaken', 100.0, '2024-07-25 11:42:31', '2024-08-29 11:42:31', 60.0), (80, 80, 101498, 'assigned', 100.0, '2024-07-21 11:56:38', '2024-10-11 11:56:38', 58.0), (81, 97, 643970, 'undertaken', 100.0, '2023-12-11 03:29:50', '2024-02-07 03:29:50', 67.0), (82, 97, 8325, 'undertaken', 100.0, '2024-08-21 19:38:59', '2024-09-13 19:38:59', 56.0), (83, 11, 504036, 'assigned', 100.0, '2023-10-12 23:46:24', '2023-11-09 23:46:24', 100.0), (84, 11, 595876, 'undertaken', 100.0, '2023-10-17 05:34:29', '2023-11-09 05:34:29', 71.0), (85, 63, 785388, 'undertaken', 100.0, '2024-05-28 01:26:08', '2024-06-07 01:26:08', 73.0), (86, 63, 719698, 'assigned', 100.0, '2024-06-24 12:31:50', '2024-09-20 12:31:50', 100.0), (87, 13, 965528, 'undertaken', 100.0, '2023-10-10 01:00:15', '2023-10-20 01:00:15', 78.0), (88, 13, 1011058, 'undertaken', 100.0, '2023-12-01 03:01:50', '2024-01-15 03:01:50', 76.0), (89, 82, 16646, 'undertaken', 100.0, '2024-02-13 03:22:37', '2024-03-19 03:22:37', 90.0), (90, 82, 476268, 'assigned', 100.0, '2023-12-29 07:21:50', '2024-03-10 07:21:50', 93.0), (91, 58, 1197206, 'assigned', 100.0, '2024-04-13 00:05:12', '2024-04-15 00:05:12', 82.0), (92, 58, 560662, 'assigned', 100.0, '2023-12-18 01:15:11', '2024-01-12 01:15:11', 97.0), (93, 14, 631416, 'undertaken', 100.0, '2024-02-19 01:15:46', '2024-03-27 01:15:46', 51.0), (94, 14, 16646, 'undertaken', 100.0, '2024-05-26 00:00:51', '2024-07-06 00:00:51', 92.0), (95, 7, 195576, 'assigned', 100.0, '2023-10-25 12:16:52', '2023-12-14 12:16:52', 65.0), (96, 7, 16646, 'undertaken', 100.0, '2024-06-29 11:34:54', '2024-08-15 11:34:54', 85.0), (97, 1, 19603, 'assigned', 100.0, '2024-03-01 12:26:40', '2024-04-08 12:26:40', 99.0), (98, 1, 573064, 'undertaken', 100.0, '2023-10-23 04:40:06', '2023-11-22 04:40:06', 71.0), (99, 98, 1197206, 'undertaken', 100.0, '2023-10-10 13:28:57', '2023-12-24 13:28:57', 84.0), (100, 98, 642410, 'assigned', 100.0, '2024-09-20 13:08:09', '2024-11-18 13:08:09', 88.0), (101, 3, 1210588, 'assigned', 100.0, '2023-12-11 11:06:10', '2023-12-28 11:06:10', 80.0), (102, 3, 192870, 'undertaken', 100.0, '2024-03-21 03:56:17', '2024-04-27 03:56:17', 98.0), (103, 82, 505208, 'assigned', 100.0, '2024-03-21 15:15:26', '2024-03-28 15:15:26', 65.0), (104, 82, 965528, 'undertaken', 100.0, '2023-11-23 02:05:39', '2024-02-21 02:05:39', 86.0), (105, 92, 317278, 'undertaken', 100.0, '2023-10-22 23:17:32', '2023-11-14 23:17:32', 67.0), (106, 92, 975046, 'assigned', 100.0, '2024-03-30 03:47:20', '2024-06-10 03:47:20', 55.0), (107, 45, 874012, 'assigned', 100.0, '2024-09-19 18:03:56', '2024-10-19 18:03:56', 85.0), (108, 45, 28295, 'undertaken', 100.0, '2024-06-21 22:51:01', '2024-08-19 22:51:01', 73.0), (109, 8, 1120554, 'assigned', 100.0, '2024-03-09 10:13:10', '2024-04-22 10:13:10', 80.0), (110, 8, 1210588, 'assigned', 100.0, '2024-01-16 09:28:24', '2024-04-13 09:28:24', 51.0), (111, 5, 1094964, 'assigned', 100.0, '2023-10-11 22:27:59', '2023-11-15 22:27:59', 59.0), (112, 5, 1048302, 'assigned', 100.0, '2024-06-07 02:23:31', '2024-07-19 02:23:31', 85.0), (113, 43, 742602, 'assigned', 100.0, '2024-02-18 17:21:21', '2024-03-30 17:21:21', 69.0), (114, 43, 560662, 'undertaken', 100.0, '2023-11-09 03:49:21', '2024-02-08 03:49:21', 50.0), (115, 77, 317278, 'undertaken', 100.0, '2024-07-11 22:27:16', '2024-07-18 22:27:16', 54.0), (116, 77, 785388, 'undertaken', 100.0, '2024-06-30 18:04:52', '2024-07-11 18:04:52', 56.0), (117, 75, 1216132, 'undertaken', 100.0, '2023-12-05 19:54:26', '2023-12-07 19:54:26', 79.0), (118, 75, 1094964, 'assigned', 100.0, '2024-09-20 15:59:57', '2024-11-03 15:59:57', 88.0), (119, 86, 965870, 'undertaken', 100.0, '2023-10-15 20:17:47', '2023-11-28 20:17:47', 68.0), (120, 86, 920306, 'undertaken', 100.0, '2024-09-20 00:01:21', '2024-10-10 00:01:21', 60.0), (121, 3, 965870, 'undertaken', 100.0, '2024-06-23 10:02:31', '2024-08-15 10:02:31', 71.0), (122, 3, 1046722, 'undertaken', 100.0, '2023-10-27 20:59:08', '2023-12-02 20:59:08', 63.0), (123, 4, 101498, 'undertaken', 100.0, '2024-04-16 21:08:38', '2024-07-24 21:08:38', 72.0), (124, 4, 317278, 'assigned', 100.0, '2024-04-26 00:26:32', '2024-05-26 00:26:32', 53.0), (126, 98, 517366, 'assigned', 100.0, '2024-01-24 17:14:53', '2024-03-27 17:14:53', 90.0), (127, 5, 1261122, 'assigned', 100.0, '2024-06-13 14:35:07', '2024-09-05 14:35:07', 99.0), (128, 5, 564966, 'assigned', 100.0, '2024-03-21 08:05:52', '2024-05-13 08:05:52', 100.0), (129, 53, 1219520, 'undertaken', 100.0, '2024-05-11 22:56:35', '2024-06-24 22:56:35', 50.0), (130, 53, 643970, 'undertaken', 100.0, '2024-02-19 06:43:33', '2024-03-24 06:43:33', 52.0), (131, 26, 880202, 'undertaken', 100.0, '2024-07-30 13:10:36', '2024-09-06 13:10:36', 54.0), (132, 26, 1253224, 'undertaken', 100.0, '2024-07-22 01:10:40', '2024-09-19 01:10:40', 62.0), (133, 76, 837722, 'assigned', 100.0, '2024-04-27 11:27:34', '2024-08-03 11:27:34', 66.0), (134, 76, 1197206, 'undertaken', 100.0, '2024-07-05 05:32:38', '2024-08-16 05:32:38', 60.0), (135, 95, 504036, 'assigned', 100.0, '2024-08-14 10:21:49', '2024-10-19 10:21:49', 63.0), (136, 95, 874012, 'undertaken', 100.0, '2024-08-28 00:25:03', '2024-11-05 00:25:03', 58.0), (137, 15, 317278, 'undertaken', 100.0, '2023-12-09 12:23:09', '2024-01-04 12:23:09', 57.0), (138, 15, 1046722, 'assigned', 100.0, '2024-08-13 02:40:51', '2024-11-10 02:40:51', 85.0), (139, 23, 1253224, 'assigned', 100.0, '2023-10-15 12:02:16', '2023-11-03 12:02:16', 98.0), (140, 23, 642410, 'assigned', 100.0, '2023-11-25 03:47:04', '2023-12-30 03:47:04', 68.0), (141, 73, 197836, 'undertaken', 100.0, '2024-01-26 12:35:09', '2024-03-02 12:35:09', 99.0), (142, 73, 640496, 'assigned', 100.0, '2023-12-12 11:38:58', '2024-01-29 11:38:58', 84.0), (143, 65, 794151, 'undertaken', 100.0, '2024-02-19 06:49:14', '2024-04-07 06:49:14', 96.0), (144, 65, 880202, 'undertaken', 100.0, '2024-04-14 21:20:53', '2024-06-26 21:20:53', 82.0), (145, 86, 1048302, 'assigned', 100.0, '2024-03-13 16:22:18', '2024-06-06 16:22:18', 63.0), (146, 86, 631416, 'undertaken', 100.0, '2024-05-25 06:05:11', '2024-06-13 06:05:11', 85.0), (147, 69, 8325, 'undertaken', 100.0, '2024-06-11 07:05:41', '2024-09-06 07:05:41', 81.0), (148, 69, 403100, 'undertaken', 100.0, '2023-12-22 10:07:58', '2023-12-27 10:07:58', 82.0), (151, 97, 1070968, 'assigned', 100.0, '2024-07-05 14:29:32', '2024-09-09 14:29:32', 100.0), (152, 97, 606928, 'undertaken', 100.0, '2023-10-19 03:43:11', '2023-11-06 03:43:11', 58.0), (153, 26, 1210588, 'undertaken', 100.0, '2023-10-21 15:48:48', '2023-12-10 15:48:48', 68.0), (154, 26, 1089744, 'assigned', 100.0, '2024-06-08 04:13:32', '2024-06-10 04:13:32', 92.0), (155, 48, 592338, 'assigned', 100.0, '2024-02-25 12:10:55', '2024-05-13 12:10:55', 95.0), (156, 48, 965870, 'undertaken', 100.0, '2024-05-11 22:04:08', '2024-07-31 22:04:08', 63.0), (157, 26, 62721, 'undertaken', 100.0, '2024-02-11 19:03:22', '2024-04-14 19:03:22', 87.0), (158, 26, 642410, 'undertaken', 100.0, '2024-06-28 03:31:10', '2024-09-15 03:31:10', 98.0), (159, 78, 785388, 'undertaken', 100.0, '2023-12-06 23:15:52', '2023-12-12 23:15:52', 78.0), (160, 78, 880202, 'undertaken', 100.0, '2024-09-13 11:00:56', '2024-11-07 11:00:56', 67.0), (161, 6, 149728, 'undertaken', 100.0, '2024-01-01 02:18:58', '2024-01-28 02:18:58', 74.0), (162, 6, 696630, 'undertaken', 100.0, '2024-05-29 08:11:18', '2024-08-22 08:11:18', 77.0), (163, 86, 729464, 'assigned', 100.0, '2024-06-13 21:03:50', '2024-08-26 21:03:50', 62.0), (164, 86, 504036, 'undertaken', 100.0, '2023-11-07 04:21:37', '2024-02-12 04:21:37', 60.0), (165, 63, 749542, 'undertaken', 100.0, '2024-04-22 20:03:18', '2024-07-28 20:03:18', 78.0), (166, 63, 1216132, 'assigned', 100.0, '2024-02-10 02:11:04', '2024-03-24 02:11:04', 87.0), (167, 27, 1181578, 'undertaken', 100.0, '2023-10-29 20:27:28', '2024-01-08 20:27:28', 79.0), (168, 27, 1200374, 'undertaken', 100.0, '2024-05-27 20:03:41', '2024-07-28 20:03:41', 85.0), (169, 28, 965528, 'undertaken', 100.0, '2024-02-04 15:56:37', '2024-05-14 15:56:37', 93.0), (170, 28, 965870, 'undertaken', 100.0, '2024-01-03 14:40:05', '2024-03-05 14:40:05', 93.0), (171, 89, 1070968, 'undertaken', 100.0, '2024-06-09 18:56:46', '2024-08-10 18:56:46', 64.0), (172, 89, 592338, 'assigned', 100.0, '2023-12-13 19:25:46', '2024-02-15 19:25:46', 62.0), (173, 1, 1210588, 'assigned', 100.0, '2024-02-04 16:28:14', '2024-02-18 16:28:14', 92.0), (174, 1, 987064, 'assigned', 100.0, '2023-11-30 01:31:51', '2024-01-06 01:31:51', 51.0), (175, 78, 149728, 'undertaken', 100.0, '2023-12-21 11:22:26', '2024-01-15 11:22:26', 72.0), (176, 78, 1086834, 'assigned', 100.0, '2024-07-07 21:03:38', '2024-07-30 21:03:38', 74.0), (177, 22, 1196544, 'undertaken', 100.0, '2023-12-12 02:53:58', '2024-02-24 02:53:58', 79.0), (178, 22, 1181578, 'undertaken', 100.0, '2024-08-03 06:46:25', '2024-08-30 06:46:25', 73.0), (179, 54, 1046722, 'assigned', 100.0, '2024-06-20 13:41:38', '2024-08-19 13:41:38', 58.0), (180, 54, 820194, 'undertaken', 100.0, '2024-07-01 19:54:39', '2024-09-12 19:54:39', 69.0), (181, 78, 192870, 'undertaken', 100.0, '2023-12-30 23:28:01', '2024-02-12 23:28:01', 65.0), (182, 78, 595876, 'assigned', 100.0, '2024-03-27 22:58:56', '2024-04-13 22:58:56', 95.0), (183, 40, 476268, 'assigned', 100.0, '2024-09-08 19:14:54', '2024-10-27 19:14:54', 99.0), (184, 40, 504036, 'undertaken', 100.0, '2024-03-26 03:25:49', '2024-06-16 03:25:49', 87.0), (185, 20, 1210588, 'assigned', 100.0, '2024-03-28 03:30:39', '2024-06-28 03:30:39', 85.0), (186, 20, 965870, 'assigned', 100.0, '2024-06-16 21:25:25', '2024-08-19 21:25:25', 57.0), (187, 84, 785388, 'assigned', 100.0, '2024-06-17 09:04:27', '2024-09-21 09:04:27', 81.0), (188, 84, 197836, 'undertaken', 100.0, '2024-03-04 16:55:59', '2024-03-14 16:55:59', 83.0), (189, 72, 1117796, 'assigned', 100.0, '2024-07-10 04:46:25', '2024-10-15 04:46:25', 65.0), (190, 72, 94428, 'assigned', 100.0, '2024-05-02 11:29:38', '2024-05-25 11:29:38', 88.0), (191, 43, 1086834, 'assigned', 100.0, '2024-06-20 23:07:29', '2024-08-10 23:07:29', 89.0), (192, 43, 1151326, 'undertaken', 100.0, '2024-03-02 02:00:28', '2024-04-24 02:00:28', 65.0), (193, 78, 58977, 'assigned', 100.0, '2023-12-14 05:47:32', '2024-02-07 05:47:32', 75.0), (195, 8, 1151326, 'assigned', 100.0, '2024-02-05 06:36:13', '2024-04-03 06:36:13', 57.0), (196, 8, 642410, 'assigned', 100.0, '2024-04-12 11:05:39', '2024-06-23 11:05:39', 60.0), (197, 100, 719698, 'undertaken', 100.0, '2023-11-03 06:06:11', '2024-01-26 06:06:11', 90.0), (198, 100, 961630, 'assigned', 100.0, '2024-02-27 09:49:06', '2024-03-11 09:49:06', 90.0), (199, 13, 1117796, 'undertaken', 100.0, '2024-03-18 11:58:34', '2024-06-23 11:58:34', 53.0), (200, 13, 987064, 'assigned', 100.0, '2023-11-10 09:24:12', '2023-11-26 09:24:12', 85.0), (201, 29, 590794, 'undertaken', 100.0, '2024-05-10 20:39:03', '2024-06-11 20:39:03', 67.0), (202, 29, 1151326, 'undertaken', 100.0, '2023-11-12 10:56:12', '2024-01-06 10:56:12', 55.0), (203, 76, 1151326, 'undertaken', 100.0, '2024-07-29 01:30:42', '2024-09-18 01:30:42', 64.0), (204, 76, 1200374, 'undertaken', 100.0, '2024-02-06 12:00:29', '2024-04-14 12:00:29', 88.0), (205, 34, 874012, 'undertaken', 100.0, '2024-07-12 03:25:50', '2024-07-15 03:25:50', 66.0), (206, 34, 1257976, 'undertaken', 100.0, '2023-11-12 18:34:54', '2024-01-01 18:34:54', 52.0), (207, 23, 192870, 'undertaken', 100.0, '2023-11-23 00:24:46', '2024-02-20 00:24:46', 99.0), (208, 23, 696630, 'assigned', 100.0, '2023-11-14 10:01:08', '2024-01-31 10:01:08', 73.0), (209, 67, 1086834, 'assigned', 100.0, '2024-03-28 09:00:10', '2024-05-03 09:00:10', 60.0), (210, 67, 1200374, 'assigned', 100.0, '2024-09-07 11:31:13', '2024-12-06 11:31:13', 87.0), (211, 7, 631416, 'undertaken', 100.0, '2024-01-03 13:06:03', '2024-03-05 13:06:03', 53.0), (212, 7, 192870, 'assigned', 100.0, '2024-07-05 06:15:38', '2024-10-11 06:15:38', 73.0), (213, 26, 961630, 'undertaken', 100.0, '2024-01-06 15:49:31', '2024-02-05 15:49:31', 57.0), (214, 26, 149728, 'assigned', 100.0, '2024-07-28 16:18:50', '2024-09-03 16:18:50', 67.0), (215, 55, 159070, 'undertaken', 100.0, '2024-04-07 02:55:06', '2024-06-20 02:55:06', 94.0), (216, 55, 1086834, 'assigned', 100.0, '2024-07-29 11:32:37', '2024-08-13 11:32:37', 89.0), (217, 97, 1216132, 'assigned', 100.0, '2024-06-28 11:46:34', '2024-07-14 11:46:34', 79.0), (218, 97, 1181578, 'assigned', 100.0, '2024-09-22 13:03:38', '2024-12-30 13:03:38', 71.0), (219, 35, 719698, 'assigned', 100.0, '2024-07-09 10:28:21', '2024-10-17 10:28:21', 92.0), (220, 35, 920306, 'assigned', 100.0, '2023-10-10 00:51:13', '2023-10-30 00:51:13', 52.0), (221, 8, 801486, 'undertaken', 100.0, '2024-10-01 00:10:38', '2024-11-01 00:10:38', 95.0), (222, 8, 101498, 'assigned', 100.0, '2023-11-05 08:35:38', '2024-01-24 08:35:38', 68.0)\n"
     ]
    },
    {
     "ename": "ProgrammingError",
     "evalue": "('42S22', \"[42S22] [Microsoft][ODBC SQL Server Driver][SQL Server]Invalid column name 'nan'. (207) (SQLExecDirectW)\")",
     "output_type": "error",
     "traceback": [
      "\u001b[1;31m---------------------------------------------------------------------------\u001b[0m",
      "\u001b[1;31mProgrammingError\u001b[0m                          Traceback (most recent call last)",
      "Cell \u001b[1;32mIn[172], line 24\u001b[0m\n\u001b[0;32m     21\u001b[0m     save_data(user_courses_df, \u001b[38;5;124m'\u001b[39m\u001b[38;5;124muser_courses\u001b[39m\u001b[38;5;124m'\u001b[39m, \u001b[38;5;124m'\u001b[39m\u001b[38;5;124mBronze\u001b[39m\u001b[38;5;124m'\u001b[39m,\u001b[38;5;124m'\u001b[39m\u001b[38;5;124mraw\u001b[39m\u001b[38;5;124m'\u001b[39m)\n\u001b[0;32m     23\u001b[0m clean_db()\n\u001b[1;32m---> 24\u001b[0m \u001b[43mbronze_ingestion\u001b[49m\u001b[43m(\u001b[49m\u001b[43m)\u001b[49m\n",
      "Cell \u001b[1;32mIn[172], line 21\u001b[0m, in \u001b[0;36mbronze_ingestion\u001b[1;34m()\u001b[0m\n\u001b[0;32m     16\u001b[0m user_courses_df \u001b[38;5;241m=\u001b[39m fetch_data(user_courses_query, conn)\n\u001b[0;32m     18\u001b[0m \u001b[38;5;66;03m# Save raw data\u001b[39;00m\n\u001b[0;32m     19\u001b[0m \u001b[38;5;66;03m# save_data(users_df, 'users', 'Bronze','raw')\u001b[39;00m\n\u001b[0;32m     20\u001b[0m \u001b[38;5;66;03m# save_data(courses_df, 'courses', 'Bronze','raw')\u001b[39;00m\n\u001b[1;32m---> 21\u001b[0m \u001b[43msave_data\u001b[49m\u001b[43m(\u001b[49m\u001b[43muser_courses_df\u001b[49m\u001b[43m,\u001b[49m\u001b[43m \u001b[49m\u001b[38;5;124;43m'\u001b[39;49m\u001b[38;5;124;43muser_courses\u001b[39;49m\u001b[38;5;124;43m'\u001b[39;49m\u001b[43m,\u001b[49m\u001b[43m \u001b[49m\u001b[38;5;124;43m'\u001b[39;49m\u001b[38;5;124;43mBronze\u001b[39;49m\u001b[38;5;124;43m'\u001b[39;49m\u001b[43m,\u001b[49m\u001b[38;5;124;43m'\u001b[39;49m\u001b[38;5;124;43mraw\u001b[39;49m\u001b[38;5;124;43m'\u001b[39;49m\u001b[43m)\u001b[49m\n",
      "Cell \u001b[1;32mIn[171], line 23\u001b[0m, in \u001b[0;36msave_data\u001b[1;34m(df, table_name, stage, schema)\u001b[0m\n\u001b[0;32m     21\u001b[0m \u001b[38;5;28mprint\u001b[39m(values)\n\u001b[0;32m     22\u001b[0m \u001b[38;5;28;01mwith\u001b[39;00m conn\u001b[38;5;241m.\u001b[39mcursor() \u001b[38;5;28;01mas\u001b[39;00m cursor:\n\u001b[1;32m---> 23\u001b[0m     \u001b[43mcursor\u001b[49m\u001b[38;5;241;43m.\u001b[39;49m\u001b[43mexecute\u001b[49m\u001b[43m(\u001b[49m\u001b[43mquery\u001b[49m\u001b[43m)\u001b[49m\n\u001b[0;32m     24\u001b[0m     conn\u001b[38;5;241m.\u001b[39mcommit()\n",
      "\u001b[1;31mProgrammingError\u001b[0m: ('42S22', \"[42S22] [Microsoft][ODBC SQL Server Driver][SQL Server]Invalid column name 'nan'. (207) (SQLExecDirectW)\")"
     ]
    }
   ],
   "source": [
    "# DON'T FORGET TO CREATE RESPECTIVE TABLES IN EACH SCHEMA\n",
    "\n",
    "\n",
    "# ----------------------------------------------\n",
    "# 1. Bronze Layer: Raw data ingestion from tables\n",
    "# ----------------------------------------------\n",
    "# Ingest raw data from SQL Server\n",
    "def bronze_ingestion():\n",
    "    user_query = \"SELECT * FROM users\"\n",
    "    course_query = \"SELECT * FROM courses\"\n",
    "    user_courses_query = \"SELECT * FROM user_courses\"\n",
    "    \n",
    "    # Fetching raw data\n",
    "    # users_df = fetch_data(user_query, conn)\n",
    "    # courses_df = fetch_data(course_query, conn)\n",
    "    user_courses_df = fetch_data(user_courses_query, conn)\n",
    "    \n",
    "    # Save raw data\n",
    "    # save_data(users_df, 'users', 'Bronze','raw')\n",
    "    # save_data(courses_df, 'courses', 'Bronze','raw')\n",
    "    save_data(user_courses_df, 'user_courses', 'Bronze','raw')\n",
    "\n",
    "clean_db()\n",
    "bronze_ingestion()"
   ]
  },
  {
   "cell_type": "code",
   "execution_count": 35,
   "metadata": {},
   "outputs": [
    {
     "name": "stderr",
     "output_type": "stream",
     "text": [
      "C:\\Users\\User\\AppData\\Local\\Temp\\ipykernel_19664\\1599314882.py:15: UserWarning: pandas only supports SQLAlchemy connectable (engine/connection) or database string URI or sqlite3 DBAPI2 connection. Other DBAPI2 objects are not tested. Please consider using SQLAlchemy.\n",
      "  enriched_df = pd.read_sql(join_query, conn)\n"
     ]
    },
    {
     "ename": "TypeError",
     "evalue": "save_data() missing 1 required positional argument: 'schema'",
     "output_type": "error",
     "traceback": [
      "\u001b[1;31m---------------------------------------------------------------------------\u001b[0m",
      "\u001b[1;31mTypeError\u001b[0m                                 Traceback (most recent call last)",
      "Cell \u001b[1;32mIn[35], line 20\u001b[0m\n\u001b[0;32m     17\u001b[0m     \u001b[38;5;66;03m# Save enriched data\u001b[39;00m\n\u001b[0;32m     18\u001b[0m     save_data(enriched_df, \u001b[38;5;124m'\u001b[39m\u001b[38;5;124muser_course_silver\u001b[39m\u001b[38;5;124m'\u001b[39m, \u001b[38;5;124m'\u001b[39m\u001b[38;5;124mSilver\u001b[39m\u001b[38;5;124m'\u001b[39m)\n\u001b[1;32m---> 20\u001b[0m \u001b[43msilver_transformation\u001b[49m\u001b[43m(\u001b[49m\u001b[43m)\u001b[49m\n",
      "Cell \u001b[1;32mIn[35], line 18\u001b[0m, in \u001b[0;36msilver_transformation\u001b[1;34m()\u001b[0m\n\u001b[0;32m     15\u001b[0m enriched_df \u001b[38;5;241m=\u001b[39m pd\u001b[38;5;241m.\u001b[39mread_sql(join_query, conn)\n\u001b[0;32m     17\u001b[0m \u001b[38;5;66;03m# Save enriched data\u001b[39;00m\n\u001b[1;32m---> 18\u001b[0m \u001b[43msave_data\u001b[49m\u001b[43m(\u001b[49m\u001b[43menriched_df\u001b[49m\u001b[43m,\u001b[49m\u001b[43m \u001b[49m\u001b[38;5;124;43m'\u001b[39;49m\u001b[38;5;124;43muser_course_silver\u001b[39;49m\u001b[38;5;124;43m'\u001b[39;49m\u001b[43m,\u001b[49m\u001b[43m \u001b[49m\u001b[38;5;124;43m'\u001b[39;49m\u001b[38;5;124;43mSilver\u001b[39;49m\u001b[38;5;124;43m'\u001b[39;49m\u001b[43m)\u001b[49m\n",
      "\u001b[1;31mTypeError\u001b[0m: save_data() missing 1 required positional argument: 'schema'"
     ]
    }
   ],
   "source": [
    "# ----------------------------------------------\n",
    "# 2. Silver Layer: Cleansing and Enrichment\n",
    "# ----------------------------------------------\n",
    "def silver_transformation():\n",
    "    # Clean and join the data (Enrichment)\n",
    "    join_query = \"\"\"\n",
    "    SELECT uc.user_course_id, u.FullName, c.course_title, uc.status, uc.progress, uc.enrolled_at\n",
    "    FROM user_courses uc\n",
    "    JOIN users u ON uc.user_id = u.UserID\n",
    "    JOIN courses c ON uc.course_id = c.course_id\n",
    "    WHERE uc.status IN ('assigned', 'undertaken')\n",
    "    \"\"\"\n",
    "    \n",
    "    # Fetching enriched data\n",
    "    enriched_df = pd.read_sql(join_query, conn)\n",
    "    \n",
    "    # Save enriched data\n",
    "    save_data(enriched_df, 'user_course_silver', 'Silver')\n",
    "\n",
    "silver_transformation()"
   ]
  },
  {
   "cell_type": "code",
   "execution_count": null,
   "metadata": {},
   "outputs": [],
   "source": [
    "# ----------------------------------------------\n",
    "# 3. Gold Layer: Aggregation and Analysis\n",
    "# ----------------------------------------------\n",
    "def gold_transformation():\n",
    "    # Aggregate course completion statistics\n",
    "    gold_query = \"\"\"\n",
    "    SELECT c.course_title, COUNT(uc.user_course_id) as num_users, AVG(uc.progress) as avg_progress\n",
    "    FROM user_courses uc\n",
    "    JOIN courses c ON uc.course_id = c.course_id\n",
    "    WHERE uc.progress = 100\n",
    "    GROUP BY c.course_title\n",
    "    \"\"\"\n",
    "    \n",
    "    # Fetching aggregated data\n",
    "    aggregated_df = pd.read_sql(gold_query, conn)\n",
    "    \n",
    "    # Save aggregated data\n",
    "    save_data(aggregated_df, 'course_completion_gold', 'Gold')\n",
    "\n",
    "gold_transformation()\n",
    "\n",
    "# Close connection\n",
    "conn.close()"
   ]
  }
 ],
 "metadata": {
  "kernelspec": {
   "display_name": "Python 3",
   "language": "python",
   "name": "python3"
  },
  "language_info": {
   "codemirror_mode": {
    "name": "ipython",
    "version": 3
   },
   "file_extension": ".py",
   "mimetype": "text/x-python",
   "name": "python",
   "nbconvert_exporter": "python",
   "pygments_lexer": "ipython3",
   "version": "3.9.6"
  }
 },
 "nbformat": 4,
 "nbformat_minor": 2
}
