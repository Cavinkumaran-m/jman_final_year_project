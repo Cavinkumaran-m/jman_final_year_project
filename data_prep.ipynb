{
 "cells": [
  {
   "cell_type": "code",
   "execution_count": 1,
   "metadata": {},
   "outputs": [],
   "source": [
    "import pandas as pd\n",
    "import numpy as np"
   ]
  },
  {
   "cell_type": "code",
   "execution_count": 7,
   "metadata": {},
   "outputs": [
    {
     "name": "stdout",
     "output_type": "stream",
     "text": [
      "<class 'pandas.core.frame.DataFrame'>\n",
      "RangeIndex: 3678 entries, 0 to 3677\n",
      "Data columns (total 9 columns):\n",
      " #   Column               Non-Null Count  Dtype  \n",
      "---  ------               --------------  -----  \n",
      " 0   course_id            3678 non-null   int64  \n",
      " 1   course_title         3678 non-null   object \n",
      " 2   num_subscribers      3678 non-null   int64  \n",
      " 3   num_reviews          3678 non-null   int64  \n",
      " 4   num_lectures         3678 non-null   int64  \n",
      " 5   level                3678 non-null   object \n",
      " 6   content_duration     3678 non-null   float64\n",
      " 7   published_timestamp  3678 non-null   object \n",
      " 8   subject              3678 non-null   object \n",
      "dtypes: float64(1), int64(4), object(4)\n",
      "memory usage: 258.7+ KB\n"
     ]
    }
   ],
   "source": [
    "df = pd.read_csv(\"csv/raw_data.csv\")\n",
    "df = df.drop(labels=[\"url\",\"is_paid\", \"price\"], axis=1)\n",
    "df.info()"
   ]
  },
  {
   "cell_type": "code",
   "execution_count": 8,
   "metadata": {},
   "outputs": [],
   "source": [
    "difficulty_levels = ['easy', 'intermediate', 'hard', 'expert']\n",
    "\n",
    "selected_records = df.groupby('subject').head(20).reset_index(drop=True)\n",
    "selected_records['level'] = np.tile(difficulty_levels, int(len(selected_records) / len(difficulty_levels)))\n",
    "selected_records.to_csv(\"csv/data.csv\", index=False)"
   ]
  }
 ],
 "metadata": {
  "kernelspec": {
   "display_name": "Python 3",
   "language": "python",
   "name": "python3"
  },
  "language_info": {
   "codemirror_mode": {
    "name": "ipython",
    "version": 3
   },
   "file_extension": ".py",
   "mimetype": "text/x-python",
   "name": "python",
   "nbconvert_exporter": "python",
   "pygments_lexer": "ipython3",
   "version": "3.12.4"
  }
 },
 "nbformat": 4,
 "nbformat_minor": 2
}
